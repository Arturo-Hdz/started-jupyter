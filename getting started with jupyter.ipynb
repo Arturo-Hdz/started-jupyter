{
 "cells": [
  {
   "cell_type": "markdown",
   "id": "b15806c5",
   "metadata": {},
   "source": [
    "HELLO WORLD!!!!\n",
    "a little web scraping"
   ]
  },
  {
   "cell_type": "markdown",
   "id": "c1a4437e",
   "metadata": {},
   "source": [
    "Check requirements"
   ]
  },
  {
   "cell_type": "code",
   "execution_count": 4,
   "id": "9d59827a",
   "metadata": {},
   "outputs": [
    {
     "name": "stdout",
     "output_type": "stream",
     "text": [
      "hello world\n"
     ]
    }
   ],
   "source": [
    "print (\"hello world\")"
   ]
  },
  {
   "cell_type": "code",
   "execution_count": 5,
   "id": "7fc8a8f3",
   "metadata": {},
   "outputs": [
    {
     "data": {
      "text/plain": [
       "8187505353567209228244052427776"
      ]
     },
     "execution_count": 5,
     "metadata": {},
     "output_type": "execute_result"
    }
   ],
   "source": [
    "abc = 1234\n",
    "abc ** 10"
   ]
  },
  {
   "cell_type": "code",
   "execution_count": 6,
   "id": "b5faaccf",
   "metadata": {},
   "outputs": [
    {
     "name": "stdout",
     "output_type": "stream",
     "text": [
      "1234\n"
     ]
    }
   ],
   "source": [
    "print (abc)"
   ]
  },
  {
   "cell_type": "code",
   "execution_count": 8,
   "id": "f9942c6b",
   "metadata": {},
   "outputs": [
    {
     "name": "stdout",
     "output_type": "stream",
     "text": [
      "Requirement already satisfied: requests in ./lib/python3.10/site-packages (2.27.1)\n",
      "Requirement already satisfied: charset-normalizer~=2.0.0 in ./lib/python3.10/site-packages (from requests) (2.0.10)\n",
      "Requirement already satisfied: urllib3<1.27,>=1.21.1 in ./lib/python3.10/site-packages (from requests) (1.26.8)\n",
      "Requirement already satisfied: idna<4,>=2.5 in ./lib/python3.10/site-packages (from requests) (3.3)\n",
      "Requirement already satisfied: certifi>=2017.4.17 in ./lib/python3.10/site-packages (from requests) (2021.10.8)\n",
      "Requirement already satisfied: beautifulsoup4 in ./lib/python3.10/site-packages (4.10.0)\n",
      "Requirement already satisfied: soupsieve>1.2 in ./lib/python3.10/site-packages (from beautifulsoup4) (2.3.1)\n"
     ]
    }
   ],
   "source": [
    "!pip install requests\n",
    "!pip install beautifulsoup4"
   ]
  },
  {
   "cell_type": "code",
   "execution_count": 10,
   "id": "5275229b",
   "metadata": {},
   "outputs": [],
   "source": [
    "#!pip freeze > requirements.txt\n",
    "#!pip install -r requirements.txt"
   ]
  },
  {
   "cell_type": "code",
   "execution_count": 7,
   "id": "80f913c8",
   "metadata": {},
   "outputs": [],
   "source": [
    "import requests\n",
    "from bs4 import BeautifulSoup"
   ]
  },
  {
   "cell_type": "code",
   "execution_count": 11,
   "id": "da91530a",
   "metadata": {},
   "outputs": [
    {
     "name": "stdout",
     "output_type": "stream",
     "text": [
      "200\n",
      "\n",
      "\n",
      "Synchronize your watches\n",
      "Time zones are a recent invention. It used to be that local time was different everywhere. Each village had its own high noon.\n",
      "Factories required synchronization, so that workers would all show up at the same time (which probably led to the alarm clock's invention as well).\n",
      "Today, of course, two things have happened:\n",
      "\n",
      "Everyone knows what time it is, all the time. Precisely the same time, to the second.\n",
      "It matters less. More work is asynchronous. The work itself now tells you when to start working on it, as the project is passed from desk to desk, from account to account.\n",
      "\n",
      "Work is no longer time-based. It's now project based.\n",
      "Act accordingly.\n",
      " \n",
      "June 8, 2018\n",
      "\n",
      "\n",
      "\n",
      "\n",
      "\n",
      "\n",
      "\n",
      "\n",
      "\n",
      "\n",
      "\n",
      "\n",
      "\n",
      "\n",
      "\n",
      "\n",
      "\n",
      "\n",
      "\n",
      "\n",
      "\n",
      "\n",
      "\n",
      "\n",
      "\n",
      "\n",
      "\n",
      "\n",
      "\n",
      "\n",
      "\n",
      "\n",
      "\n",
      "\n",
      "\n",
      "\n",
      "\n",
      "\n",
      "\n",
      "\n",
      "\n",
      "\n",
      "\n",
      "\n",
      "\n",
      "\n",
      "\n"
     ]
    }
   ],
   "source": [
    "url = 'https://seths.blog/2018/06/synchronize-your-watches/'\n",
    "div_class = \"single-post\"\n",
    "response = requests.get(url)\n",
    "print(response.status_code)\n",
    "html = response.text\n",
    "soup = BeautifulSoup(html, \"html.parser\")\n",
    "article_body = soup.find(\"div\", {\"class\": div_class})\n",
    "article_text = article_body.text\n",
    "print(article_text)"
   ]
  },
  {
   "cell_type": "code",
   "execution_count": null,
   "id": "f2da0b07",
   "metadata": {},
   "outputs": [],
   "source": []
  }
 ],
 "metadata": {
  "kernelspec": {
   "display_name": "Python 3 (ipykernel)",
   "language": "python",
   "name": "python3"
  },
  "language_info": {
   "codemirror_mode": {
    "name": "ipython",
    "version": 3
   },
   "file_extension": ".py",
   "mimetype": "text/x-python",
   "name": "python",
   "nbconvert_exporter": "python",
   "pygments_lexer": "ipython3",
   "version": "3.10.1"
  }
 },
 "nbformat": 4,
 "nbformat_minor": 5
}
